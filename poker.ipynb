{
 "cells": [
  {
   "cell_type": "code",
   "execution_count": null,
   "metadata": {},
   "outputs": [],
   "source": [
    "#default_exp poker"
   ]
  },
  {
   "cell_type": "markdown",
   "metadata": {},
   "source": [
    "# Lesson 1 + Homework from the Udacity CS212 Course - Design of Computer Programs by Peter Norvig\n",
    "\n",
    "This was one of the first courses released by Udacity back in 2012. I took the course at the time and struggled *a lot* to be able to complete the programming assignments.\n",
    "However, over the years my familiarity with Python and my general programming chops have improved and I figured it was time to give it another try. My motivation to do this again is also motivated by the Advent Of Code 2020 challenge, and I know the skills taught in this course will greatly improve my ability to complete similar coding challenges.\n",
    "\n",
    "Below is the code for the Poker program taught in Lesson 1. This code is a merger of what I wrote in the quizzes and I merged in some ideas from Peter's solution. I am not going to explain all of this code below, and I encourage you to do the free course if you are interested in this code.\n",
    "\n",
    "### Poker"
   ]
  },
  {
   "cell_type": "code",
   "execution_count": 2,
   "metadata": {},
   "outputs": [],
   "source": [
    "#export\n",
    "\n",
    "from random import shuffle\n",
    "\n",
    "mydeck = [r+s for r in '23456789TJQKA' for s in 'SHDC']\n",
    "\n",
    "def deal(numhands, n=5, deck=mydeck):\n",
    "    \"Deal numhands poker hands\"\n",
    "    shuffle(deck)\n",
    "    return [deck[n*i:n*(i+1)] for i in range(numhands)]\n",
    "\n",
    "def poker(hands):\n",
    "    \"Return the best hand: poker([hand,...]) => [hand, ...]\"\n",
    "    return allmax(hands, key=hand_rank)\n",
    "\n",
    "def allmax(iterable, key=None):\n",
    "    \"return a list of all items equal to the max of the iterable\"\n",
    "    key = key or (lambda x: x)\n",
    "    best = max(iterable, key=key)\n",
    "    return [item for item in iterable if key(item)==key(best)]\n",
    "\n",
    "def hand_rank(hand):\n",
    "    \"Returns the rank of a hand\"\n",
    "    ranks = card_ranks(hand)\n",
    "    if straight(ranks) and flush(hand):            # straight flush\n",
    "        return (8, max(ranks))\n",
    "    elif kind(4, ranks):                           # 4 of a kind\n",
    "        return (7, kind(4, ranks), kind(1, ranks))\n",
    "    elif kind(3, ranks) and kind(2, ranks):        # full house\n",
    "        return (6, kind(3, ranks), kind(2, ranks))\n",
    "    elif flush(hand):                              # flush\n",
    "        return (5, ranks)\n",
    "    elif straight(ranks):                          # straight\n",
    "        return (4, max(ranks))\n",
    "    elif kind(3, ranks):                           # 3 of a kind\n",
    "        return (3, kind(3, ranks), ranks)\n",
    "    elif two_pair(ranks):                          # 2 pair\n",
    "        return (2, two_pair(ranks), ranks)\n",
    "    elif kind(2, ranks):                           # kind\n",
    "        return (1, kind(2, ranks), ranks)\n",
    "    else:                                          # high card\n",
    "        return (0, ranks)\n",
    "\n",
    "def kind(n, ranks):\n",
    "    \"For a given int n, return the rank of card that has that kind or False\"\n",
    "    for r in ranks:\n",
    "        if ranks.count(r)==n: return r\n",
    "    return None\n",
    "\n",
    "def two_pair(ranks):\n",
    "    \"\"\"\n",
    "    (ranks,) => (int, int)\n",
    "    For a given set of card ranks, return rank of pairs if two pairs, else None\n",
    "    \"\"\"\n",
    "    p1 = kind(2, ranks)\n",
    "    if p1:\n",
    "        p2 = kind(2, [r for r in ranks if r!=p1])\n",
    "    if p1 and p2:\n",
    "        return (p1, p2)\n",
    "    return None\n",
    "\n",
    "def card_ranks(hand):\n",
    "    \"\"\"\n",
    "    (str,) => (int,)\n",
    "    Return rank of cards for a hand\n",
    "    \"\"\"\n",
    "    ranks = ['--23456789TJQKA'.index(r) for r,s in hand]\n",
    "    ranks.sort(reverse=True)\n",
    "    return [5,4,3,2,1] if (ranks == [14, 5, 4, 3, 2]) else ranks\n",
    "\n",
    "def straight(ranks):\n",
    "    \"Returns True if hand is a straight, otherwise False\"\n",
    "    return len(set(ranks))==5 and (max(ranks)-min(ranks) == 4)\n",
    "\n",
    "def flush(hand):\n",
    "    \"Return True if all cards have the same suit, otherwise False\"\n",
    "    suit = hand[0][1]\n",
    "    return all(s==suit for r,s in hand)"
   ]
  },
  {
   "cell_type": "code",
   "execution_count": 5,
   "metadata": {},
   "outputs": [
    {
     "name": "stdout",
     "output_type": "stream",
     "text": [
      "test pass\n"
     ]
    }
   ],
   "source": [
    "def test():\n",
    "    \"Test cases for the functions in the poker program\"\n",
    "    sf = \"6C 7C 8C 9C TC\".split() # straight flush\n",
    "    fk = \"9D 9H 9S 9C 7D\".split() # 4 of a kind\n",
    "    fh = \"TD TC TH 7C 7D\".split() # full house\n",
    "    tp = \"5S 5D 9H 9C 6S\".split() # 2 pair\n",
    "    al = \"AC 5D 4D 3H 2S\".split() # straight aces low (special case)\n",
    "    na = \"2C 4C 5H 7D TS\".split() # nothing, 10 high\n",
    "    \n",
    "    fkranks = card_ranks(fk)\n",
    "    tpranks = card_ranks(tp)\n",
    "    alranks = card_ranks(al)\n",
    "    naranks = card_ranks(na)\n",
    "    \n",
    "    assert kind(4, fkranks) == 9\n",
    "    assert kind(4, tpranks) == None\n",
    "    assert kind(2, fkranks) == None\n",
    "    assert kind(1, fkranks) == 7\n",
    "    assert two_pair(tpranks) == (9,5)\n",
    "    \n",
    "    assert straight([9,8,7,6,5]) == True\n",
    "    assert straight([9,8,8,6,5]) == False\n",
    "    assert straight(alranks) == True\n",
    "    assert flush(sf) == True\n",
    "    assert flush(fk) == False\n",
    "    \n",
    "    assert card_ranks(sf) == [10, 9, 8, 7, 6]\n",
    "    assert card_ranks(fk) == [9, 9, 9, 9, 7]\n",
    "    assert card_ranks(fh) == [10, 10, 10, 7, 7]\n",
    "    assert card_ranks(na) == [10, 7, 5, 4, 2]\n",
    "    \n",
    "    assert hand_rank(sf) == (8, 10)\n",
    "    assert hand_rank(fk) == (7, 9, 7)\n",
    "    assert hand_rank(fh) == (6, 10, 7)\n",
    "    assert hand_rank(na) == (0, [10, 7, 5, 4, 2])\n",
    "    \n",
    "    assert poker([sf, fk, fh]) == [sf]\n",
    "    assert poker([fk, fh]) == [fk]\n",
    "    assert poker([fh, fh]) == [fh, fh]\n",
    "    assert poker([fh]) == [fh]\n",
    "    assert poker([sf] + [fh]*99)  == [sf]\n",
    "    assert poker([na, al, tp]) == [al]\n",
    "        \n",
    "    return \"test pass\"\n",
    "                 \n",
    "print(test())"
   ]
  },
  {
   "cell_type": "markdown",
   "metadata": {},
   "source": [
    "# Homework Assignment\n",
    "\n",
    "The homework assignment has two parts:\n",
    "1) Given a 7 card hand, determine the best 5 card hand\n",
    "\n",
    "2) Given a 7 card hand *with red or black wild cards*, deterime the best 5 card hand.\n",
    "\n",
    "### Part 1\n",
    "\n",
    "This is a relatively simple solution since we can use the itertools.combinations function\n",
    "to generate every possible 5-card combination from our 7 cards, then use the existing\n",
    "hand_rank function to pick the best one. My solution was nearly identical to Peter's"
   ]
  },
  {
   "cell_type": "code",
   "execution_count": 166,
   "metadata": {},
   "outputs": [],
   "source": [
    "#export\n",
    "import itertools\n",
    "\n",
    "def best_hand(hand):\n",
    "    hands = itertools.combinations(hand, 5)\n",
    "    return max(hands, key=hand_rank)"
   ]
  },
  {
   "cell_type": "markdown",
   "metadata": {},
   "source": [
    "## Part 2\n",
    "\n",
    "This part is significantly more complex, and the case where a hand may have a red *and* and black wild card was the most challenging for me.\n",
    "Although my solution passes all of the test cases, it is not the most elegant solution (especially compared to Peter's, below)\n",
    "\n",
    "Another itertools function that greatly helped with my solution was itertools.product which returns every combination of elements selected from a list of lists.\n",
    "I struggled with the idea of how to ensure we are selecting only 1 card from each wild card list and the remaining cards from the hand we were dealt, but I was create a variable `num_wild` that I used to determine how many wild cards were found."
   ]
  },
  {
   "cell_type": "code",
   "execution_count": 258,
   "metadata": {},
   "outputs": [],
   "source": [
    "#export\n",
    "all_ranks = '23456789TJQKA'\n",
    "black_cards = [r+s for r in all_ranks for s in 'SC']\n",
    "red_cards = [r+s for r in all_ranks for s in 'HD']\n",
    "\n",
    "def best_wild_hand(hand):\n",
    "    \"Try all values for jokers in all 5-card selections.\"\n",
    "    hands = []\n",
    "    wild_cards = []\n",
    "    num_wild=0\n",
    "    if '?B' and '?R' in hand:\n",
    "        hand.remove('?B')\n",
    "        hand.remove('?R')\n",
    "        num_wild=2\n",
    "        red_cards2 = [c for c in red_cards if c not in hand]\n",
    "        black_cards2 = [c for c in black_cards if c not in hand]\n",
    "        wild_cards = [c for c in itertools.product(red_cards2, black_cards2)]\n",
    "    elif '?B' in hand:\n",
    "        hand.remove('?B')\n",
    "        num_wild=1\n",
    "        wild_cards = [(c,) for c in black_cards if c not in hand]\n",
    "    elif '?R' in hand:\n",
    "        hand.remove('?R')\n",
    "        num_wild=1\n",
    "        wild_cards = [(c,) for c in red_cards if c not in hand]\n",
    "        \n",
    "    hands = [c for c in itertools.combinations(hand, 5)]\n",
    "    hands.extend([comb+wild for comb in itertools.combinations(hand, 5-num_wild) for wild in wild_cards])\n",
    "    \n",
    "    return max(hands, key=hand_rank)"
   ]
  },
  {
   "cell_type": "code",
   "execution_count": null,
   "metadata": {},
   "outputs": [],
   "source": [
    "def test_best_wild_hand():\n",
    "    assert (sorted(best_wild_hand(\"6C 7C 8C 9C TC 5C ?B\".split()))\n",
    "            == ['7C', '8C', '9C', 'JC', 'TC'])\n",
    "    assert (sorted(best_wild_hand(\"TD TC 5H 5C 7C ?R ?B\".split()))\n",
    "            == ['7C', 'TC', 'TD', 'TH', 'TS'])\n",
    "    assert (sorted(best_wild_hand(\"JD TC TH 7C 7D 7S 7H\".split()))\n",
    "            == ['7C', '7D', '7H', '7S', 'JD'])\n",
    "    return 'test_best_wild_hand passes'\n",
    "\n",
    "print(test_best_wild_hand())"
   ]
  },
  {
   "cell_type": "markdown",
   "metadata": {},
   "source": []
  },
  {
   "cell_type": "code",
   "execution_count": null,
   "metadata": {},
   "outputs": [],
   "source": [
    "#export\n",
    "def best_wild_hand_peter(hand):\n",
    "    hands = [best_hand(h) for h in itertools.product(*map(replacement, hand))]\n",
    "    best = max(hands, key=hand_rank)\n",
    "    print(best)\n",
    "    return best\n",
    "    \n",
    "def replacement(card):\n",
    "    \"\"\"str => [str,..]\n",
    "    If the card is a wild card, replaces it with the list of cards it can replace,\n",
    "    otherwise return the card in a list\n",
    "    \"\"\"\n",
    "    if card == '?R': return red_cards\n",
    "    elif card == '?B': return black_cards\n",
    "    else: return [card]"
   ]
  },
  {
   "cell_type": "code",
   "execution_count": 260,
   "metadata": {},
   "outputs": [
    {
     "name": "stdout",
     "output_type": "stream",
     "text": [
      "('7C', '8C', '9C', 'TC', 'JC')\n",
      "('JD', '7C', '7D', '7S', '7H')\n",
      "('TD', 'TC', '7C', 'TH', 'TS')\n",
      "test_best_wild_hand_peter passes\n"
     ]
    }
   ],
   "source": [
    "def test_best_wild_hand_peter():\n",
    "    assert (sorted(best_wild_hand_peter(\"6C 7C 8C 9C TC 5C ?B\".split()))\n",
    "            == ['7C', '8C', '9C', 'JC', 'TC'])\n",
    "    assert (sorted(best_wild_hand_peter(\"JD TC TH 7C 7D 7S 7H\".split()))\n",
    "            == ['7C', '7D', '7H', '7S', 'JD'])\n",
    "    assert (sorted(best_wild_hand_peter(\"TD TC 5H 5C 7C ?R ?B\".split()))\n",
    "            == ['7C', 'TC', 'TD', 'TH', 'TS'])\n",
    "    return 'test_best_wild_hand_peter passes'\n",
    "\n",
    "print(test_best_wild_hand_peter())"
   ]
  },
  {
   "cell_type": "code",
   "execution_count": null,
   "metadata": {},
   "outputs": [],
   "source": []
  }
 ],
 "metadata": {
  "kernelspec": {
   "display_name": "udacity-cs212",
   "language": "python",
   "name": "udacity-cs212"
  },
  "language_info": {
   "codemirror_mode": {
    "name": "ipython",
    "version": 3
   },
   "file_extension": ".py",
   "mimetype": "text/x-python",
   "name": "python",
   "nbconvert_exporter": "python",
   "pygments_lexer": "ipython3",
   "version": "3.8.5"
  }
 },
 "nbformat": 4,
 "nbformat_minor": 4
}
