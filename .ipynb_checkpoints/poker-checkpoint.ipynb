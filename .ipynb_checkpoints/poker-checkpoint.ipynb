{
 "cells": [
  {
   "cell_type": "code",
   "execution_count": 5,
   "metadata": {},
   "outputs": [
    {
     "name": "stdout",
     "output_type": "stream",
     "text": [
      "[['TD', 'TC', 'tH', '7C', '7D'], ['9D', '9H', '9S', '9C', '7D'], ['6C', '7C', '8C', '9C', 'TC'], ['9D', '9H', '9S', '9C', '7D'], ['6C', '7C', '8C', '9C', 'TC'], ['9D', '9H', '9S', '9C', '7D'], ['TD', 'TC', 'tH', '7C', '7D'], ['9D', '9H', '9S', '9C', '7D'], ['TD', 'TC', 'tH', '7C', '7D'], ['6C', '7C', '8C', '9C', 'TC'], ['6C', '7C', '8C', '9C', 'TC'], ['6C', '7C', '8C', '9C', 'TC'], ['9D', '9H', '9S', '9C', '7D'], ['6C', '7C', '8C', '9C', 'TC'], ['6C', '7C', '8C', '9C', 'TC'], ['9D', '9H', '9S', '9C', '7D'], ['TD', 'TC', 'tH', '7C', '7D'], ['6C', '7C', '8C', '9C', 'TC'], ['9D', '9H', '9S', '9C', '7D'], ['6C', '7C', '8C', '9C', 'TC'], ['6C', '7C', '8C', '9C', 'TC'], ['6C', '7C', '8C', '9C', 'TC'], ['TD', 'TC', 'tH', '7C', '7D'], ['9D', '9H', '9S', '9C', '7D'], ['6C', '7C', '8C', '9C', 'TC'], ['TD', 'TC', 'tH', '7C', '7D'], ['TD', 'TC', 'tH', '7C', '7D'], ['TD', 'TC', 'tH', '7C', '7D'], ['6C', '7C', '8C', '9C', 'TC'], ['TD', 'TC', 'tH', '7C', '7D'], ['9D', '9H', '9S', '9C', '7D'], ['9D', '9H', '9S', '9C', '7D'], ['TD', 'TC', 'tH', '7C', '7D'], ['TD', 'TC', 'tH', '7C', '7D'], ['9D', '9H', '9S', '9C', '7D'], ['6C', '7C', '8C', '9C', 'TC'], ['9D', '9H', '9S', '9C', '7D'], ['9D', '9H', '9S', '9C', '7D'], ['9D', '9H', '9S', '9C', '7D'], ['6C', '7C', '8C', '9C', 'TC'], ['TD', 'TC', 'tH', '7C', '7D'], ['6C', '7C', '8C', '9C', 'TC'], ['6C', '7C', '8C', '9C', 'TC'], ['6C', '7C', '8C', '9C', 'TC'], ['6C', '7C', '8C', '9C', 'TC'], ['6C', '7C', '8C', '9C', 'TC'], ['TD', 'TC', 'tH', '7C', '7D'], ['6C', '7C', '8C', '9C', 'TC'], ['TD', 'TC', 'tH', '7C', '7D'], ['9D', '9H', '9S', '9C', '7D'], ['9D', '9H', '9S', '9C', '7D'], ['TD', 'TC', 'tH', '7C', '7D'], ['TD', 'TC', 'tH', '7C', '7D'], ['TD', 'TC', 'tH', '7C', '7D'], ['6C', '7C', '8C', '9C', 'TC'], ['TD', 'TC', 'tH', '7C', '7D'], ['9D', '9H', '9S', '9C', '7D'], ['9D', '9H', '9S', '9C', '7D'], ['TD', 'TC', 'tH', '7C', '7D'], ['TD', 'TC', 'tH', '7C', '7D'], ['6C', '7C', '8C', '9C', 'TC'], ['6C', '7C', '8C', '9C', 'TC'], ['9D', '9H', '9S', '9C', '7D'], ['TD', 'TC', 'tH', '7C', '7D'], ['TD', 'TC', 'tH', '7C', '7D'], ['9D', '9H', '9S', '9C', '7D'], ['9D', '9H', '9S', '9C', '7D'], ['9D', '9H', '9S', '9C', '7D'], ['9D', '9H', '9S', '9C', '7D'], ['6C', '7C', '8C', '9C', 'TC'], ['9D', '9H', '9S', '9C', '7D'], ['TD', 'TC', 'tH', '7C', '7D'], ['9D', '9H', '9S', '9C', '7D'], ['TD', 'TC', 'tH', '7C', '7D'], ['TD', 'TC', 'tH', '7C', '7D'], ['9D', '9H', '9S', '9C', '7D'], ['6C', '7C', '8C', '9C', 'TC'], ['TD', 'TC', 'tH', '7C', '7D'], ['6C', '7C', '8C', '9C', 'TC'], ['6C', '7C', '8C', '9C', 'TC'], ['6C', '7C', '8C', '9C', 'TC'], ['9D', '9H', '9S', '9C', '7D'], ['6C', '7C', '8C', '9C', 'TC'], ['9D', '9H', '9S', '9C', '7D'], ['9D', '9H', '9S', '9C', '7D'], ['TD', 'TC', 'tH', '7C', '7D'], ['TD', 'TC', 'tH', '7C', '7D'], ['TD', 'TC', 'tH', '7C', '7D'], ['9D', '9H', '9S', '9C', '7D'], ['TD', 'TC', 'tH', '7C', '7D'], ['9D', '9H', '9S', '9C', '7D'], ['6C', '7C', '8C', '9C', 'TC'], ['6C', '7C', '8C', '9C', 'TC'], ['9D', '9H', '9S', '9C', '7D'], ['TD', 'TC', 'tH', '7C', '7D'], ['TD', 'TC', 'tH', '7C', '7D'], ['TD', 'TC', 'tH', '7C', '7D'], ['TD', 'TC', 'tH', '7C', '7D'], ['9D', '9H', '9S', '9C', '7D'], ['6C', '7C', '8C', '9C', 'TC']]\n"
     ]
    },
    {
     "ename": "TypeError",
     "evalue": "'>' not supported between instances of 'NoneType' and 'NoneType'",
     "output_type": "error",
     "traceback": [
      "\u001b[0;31m---------------------------------------------------------------------------\u001b[0m",
      "\u001b[0;31mTypeError\u001b[0m                                 Traceback (most recent call last)",
      "\u001b[0;32m<ipython-input-5-5cc718164ca6>\u001b[0m in \u001b[0;36m<module>\u001b[0;34m\u001b[0m\n\u001b[1;32m     23\u001b[0m     \u001b[0;32mreturn\u001b[0m \u001b[0;34m\"test pass\"\u001b[0m\u001b[0;34m\u001b[0m\u001b[0;34m\u001b[0m\u001b[0m\n\u001b[1;32m     24\u001b[0m \u001b[0;34m\u001b[0m\u001b[0m\n\u001b[0;32m---> 25\u001b[0;31m \u001b[0mprint\u001b[0m\u001b[0;34m(\u001b[0m\u001b[0mtest\u001b[0m\u001b[0;34m(\u001b[0m\u001b[0;34m)\u001b[0m\u001b[0;34m)\u001b[0m\u001b[0;34m\u001b[0m\u001b[0;34m\u001b[0m\u001b[0m\n\u001b[0m",
      "\u001b[0;32m<ipython-input-5-5cc718164ca6>\u001b[0m in \u001b[0;36mtest\u001b[0;34m()\u001b[0m\n\u001b[1;32m     15\u001b[0m     \u001b[0mfh\u001b[0m \u001b[0;34m=\u001b[0m \u001b[0;34m\"TD TC tH 7C 7D\"\u001b[0m\u001b[0;34m.\u001b[0m\u001b[0msplit\u001b[0m\u001b[0;34m(\u001b[0m\u001b[0;34m)\u001b[0m\u001b[0;34m\u001b[0m\u001b[0;34m\u001b[0m\u001b[0m\n\u001b[1;32m     16\u001b[0m     \u001b[0mprint\u001b[0m\u001b[0;34m(\u001b[0m\u001b[0mchoices\u001b[0m\u001b[0;34m(\u001b[0m\u001b[0;34m[\u001b[0m\u001b[0msf\u001b[0m\u001b[0;34m,\u001b[0m \u001b[0mfk\u001b[0m\u001b[0;34m,\u001b[0m \u001b[0mfh\u001b[0m\u001b[0;34m]\u001b[0m\u001b[0;34m,\u001b[0m \u001b[0mk\u001b[0m\u001b[0;34m=\u001b[0m\u001b[0;36m100\u001b[0m\u001b[0;34m)\u001b[0m\u001b[0;34m)\u001b[0m\u001b[0;34m\u001b[0m\u001b[0;34m\u001b[0m\u001b[0m\n\u001b[0;32m---> 17\u001b[0;31m     \u001b[0;32massert\u001b[0m \u001b[0mpoker\u001b[0m\u001b[0;34m(\u001b[0m\u001b[0;34m[\u001b[0m\u001b[0msf\u001b[0m\u001b[0;34m,\u001b[0m \u001b[0mfk\u001b[0m\u001b[0;34m,\u001b[0m \u001b[0mfh\u001b[0m\u001b[0;34m]\u001b[0m\u001b[0;34m)\u001b[0m \u001b[0;34m==\u001b[0m \u001b[0msf\u001b[0m\u001b[0;34m\u001b[0m\u001b[0;34m\u001b[0m\u001b[0m\n\u001b[0m\u001b[1;32m     18\u001b[0m     \u001b[0;32massert\u001b[0m \u001b[0mpoker\u001b[0m\u001b[0;34m(\u001b[0m\u001b[0;34m[\u001b[0m\u001b[0mfk\u001b[0m\u001b[0;34m,\u001b[0m \u001b[0mfh\u001b[0m\u001b[0;34m]\u001b[0m\u001b[0;34m)\u001b[0m \u001b[0;34m==\u001b[0m \u001b[0mfk\u001b[0m\u001b[0;34m\u001b[0m\u001b[0;34m\u001b[0m\u001b[0m\n\u001b[1;32m     19\u001b[0m     \u001b[0;32massert\u001b[0m \u001b[0mpoker\u001b[0m\u001b[0;34m(\u001b[0m\u001b[0;34m[\u001b[0m\u001b[0mfh\u001b[0m\u001b[0;34m,\u001b[0m \u001b[0mfh\u001b[0m\u001b[0;34m]\u001b[0m\u001b[0;34m)\u001b[0m \u001b[0;34m==\u001b[0m \u001b[0mfh\u001b[0m\u001b[0;34m\u001b[0m\u001b[0;34m\u001b[0m\u001b[0m\n",
      "\u001b[0;32m<ipython-input-5-5cc718164ca6>\u001b[0m in \u001b[0;36mpoker\u001b[0;34m(hands)\u001b[0m\n\u001b[1;32m      3\u001b[0m \u001b[0;32mdef\u001b[0m \u001b[0mpoker\u001b[0m\u001b[0;34m(\u001b[0m\u001b[0mhands\u001b[0m\u001b[0;34m)\u001b[0m\u001b[0;34m:\u001b[0m\u001b[0;34m\u001b[0m\u001b[0;34m\u001b[0m\u001b[0m\n\u001b[1;32m      4\u001b[0m     \u001b[0;34m\"Return the best hand: poker([hand,...]) => hand\"\u001b[0m\u001b[0;34m\u001b[0m\u001b[0;34m\u001b[0m\u001b[0m\n\u001b[0;32m----> 5\u001b[0;31m     \u001b[0;32mreturn\u001b[0m \u001b[0mmax\u001b[0m\u001b[0;34m(\u001b[0m\u001b[0mhands\u001b[0m\u001b[0;34m,\u001b[0m \u001b[0mkey\u001b[0m\u001b[0;34m=\u001b[0m\u001b[0mhand_rank\u001b[0m\u001b[0;34m)\u001b[0m\u001b[0;34m\u001b[0m\u001b[0;34m\u001b[0m\u001b[0m\n\u001b[0m\u001b[1;32m      6\u001b[0m \u001b[0;34m\u001b[0m\u001b[0m\n\u001b[1;32m      7\u001b[0m \u001b[0;32mdef\u001b[0m \u001b[0mhand_rank\u001b[0m\u001b[0;34m(\u001b[0m\u001b[0mhand\u001b[0m\u001b[0;34m)\u001b[0m\u001b[0;34m:\u001b[0m\u001b[0;34m\u001b[0m\u001b[0;34m\u001b[0m\u001b[0m\n",
      "\u001b[0;31mTypeError\u001b[0m: '>' not supported between instances of 'NoneType' and 'NoneType'"
     ]
    }
   ],
   "source": [
    "from random import choices\n",
    "\n",
    "def poker(hands):\n",
    "    \"Return the best hand: poker([hand,...]) => hand\"\n",
    "    return max(hands, key=hand_rank)\n",
    "\n",
    "def hand_rank(hand):\n",
    "    \"Returns the rank of a hand\"\n",
    "    return None\n",
    "\n",
    "def test():\n",
    "    \"Test cases for the functions in the poker program\"\n",
    "    sf = \"6C 7C 8C 9C TC\".split()\n",
    "    fk = \"9D 9H 9S 9C 7D\".split()\n",
    "    fh = \"TD TC TH 7C 7D\".split()\n",
    "    assert poker([sf, fk, fh]) == sf\n",
    "    assert poker([fk, fh]) == fk\n",
    "    assert poker([fh, fh]) == fh\n",
    "    assert poker([fh]) == fh\n",
    "    assert poker(choices([sf, fk, fh], k=100))  == sf\n",
    "    \n",
    "    return \"test pass\"\n",
    "                 \n",
    "print(test())"
   ]
  },
  {
   "cell_type": "code",
   "execution_count": null,
   "metadata": {},
   "outputs": [],
   "source": []
  }
 ],
 "metadata": {
  "kernelspec": {
   "display_name": "udacity-cs212",
   "language": "python",
   "name": "udacity-cs212"
  },
  "language_info": {
   "codemirror_mode": {
    "name": "ipython",
    "version": 3
   },
   "file_extension": ".py",
   "mimetype": "text/x-python",
   "name": "python",
   "nbconvert_exporter": "python",
   "pygments_lexer": "ipython3",
   "version": "3.8.5"
  }
 },
 "nbformat": 4,
 "nbformat_minor": 4
}
